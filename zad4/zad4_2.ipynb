{
 "cells": [
  {
   "cell_type": "code",
   "execution_count": 3,
   "metadata": {},
   "outputs": [],
   "source": [
    "przedmioty = [\"Metodologia\", \"WF\", \"Anatomia\", \"Komunikacja\", \"Angielski\"]"
   ]
  },
  {
   "cell_type": "code",
   "execution_count": 4,
   "metadata": {},
   "outputs": [
    {
     "name": "stdin",
     "output_type": "stream",
     "text": [
      "Metodologia 5.0\n",
      "WF 5.0\n",
      "Anatomia 4.0\n",
      "Komunikacja 5.0\n",
      "Angielski 5.0\n"
     ]
    }
   ],
   "source": [
    "oceny = []\n",
    "\n",
    "ocena = input (\"Metodologia\")\n",
    "ocena = float (ocena)\n",
    "oceny.append(ocena)\n",
    "\n",
    "ocena = input (\"WF\")\n",
    "ocena = float (ocena)\n",
    "oceny.append(ocena)\n",
    "\n",
    "ocena = input (\"Anatomia\")\n",
    "ocena = float (ocena)\n",
    "oceny.append(ocena)\n",
    "\n",
    "ocena = input (\"Komunikacja\")\n",
    "ocena = float (ocena)\n",
    "oceny.append(ocena)\n",
    "\n",
    "ocena = input (\"Angielski\")\n",
    "ocena = float (ocena)\n",
    "oceny.append(ocena)"
   ]
  },
  {
   "cell_type": "code",
   "execution_count": 5,
   "metadata": {},
   "outputs": [
    {
     "data": {
      "text/plain": [
       "[5.0, 5.0, 4.0, 5.0, 5.0]"
      ]
     },
     "execution_count": 5,
     "metadata": {},
     "output_type": "execute_result"
    }
   ],
   "source": [
    "oceny"
   ]
  },
  {
   "cell_type": "code",
   "execution_count": 8,
   "metadata": {},
   "outputs": [
    {
     "data": {
      "text/plain": [
       "24.0"
      ]
     },
     "execution_count": 8,
     "metadata": {},
     "output_type": "execute_result"
    }
   ],
   "source": [
    "sum(oceny)"
   ]
  },
  {
   "cell_type": "code",
   "execution_count": 7,
   "metadata": {},
   "outputs": [
    {
     "data": {
      "text/plain": [
       "5"
      ]
     },
     "execution_count": 7,
     "metadata": {},
     "output_type": "execute_result"
    }
   ],
   "source": [
    "len(oceny)"
   ]
  },
  {
   "cell_type": "code",
   "execution_count": 19,
   "metadata": {},
   "outputs": [
    {
     "name": "stdout",
     "output_type": "stream",
     "text": [
      "Moja średnia ocen to: 4.8\n"
     ]
    }
   ],
   "source": [
    "srednia = sum(oceny)/len(oceny)\n",
    "print((\"Moja średnia ocen to: \") + str(srednia))"
   ]
  },
  {
   "cell_type": "code",
   "execution_count": null,
   "metadata": {},
   "outputs": [],
   "source": []
  }
 ],
 "metadata": {
  "kernelspec": {
   "display_name": "Python 3",
   "language": "python",
   "name": "python3"
  },
  "language_info": {
   "codemirror_mode": {
    "name": "ipython",
    "version": 3
   },
   "file_extension": ".py",
   "mimetype": "text/x-python",
   "name": "python",
   "nbconvert_exporter": "python",
   "pygments_lexer": "ipython3",
   "version": "3.7.0"
  }
 },
 "nbformat": 4,
 "nbformat_minor": 2
}

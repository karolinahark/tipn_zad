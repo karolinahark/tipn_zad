{
 "cells": [
  {
   "cell_type": "code",
   "execution_count": 1,
   "metadata": {},
   "outputs": [
    {
     "name": "stdin",
     "output_type": "stream",
     "text": [
      "Podaj zdanie:  Zjadłabym sushi\n"
     ]
    },
    {
     "name": "stdout",
     "output_type": "stream",
     "text": [
      "Liczba słów w zdaniu wynosi:  2\n"
     ]
    }
   ],
   "source": [
    "x = input(\"Podaj zdanie: \")\n",
    "y = 0\n",
    "\n",
    "for i in x:\n",
    "    if i == \" \":\n",
    "        y += 1\n",
    "        \n",
    "y += 1\n",
    "print(\"Liczba słów w zdaniu wynosi: \", y)"
   ]
  }
 ],
 "metadata": {
  "kernelspec": {
   "display_name": "Python 3",
   "language": "python",
   "name": "python3"
  },
  "language_info": {
   "codemirror_mode": {
    "name": "ipython",
    "version": 3
   },
   "file_extension": ".py",
   "mimetype": "text/x-python",
   "name": "python",
   "nbconvert_exporter": "python",
   "pygments_lexer": "ipython3",
   "version": "3.7.0"
  }
 },
 "nbformat": 4,
 "nbformat_minor": 2
}

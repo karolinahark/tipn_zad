{
 "cells": [
  {
   "cell_type": "code",
   "execution_count": 1,
   "metadata": {},
   "outputs": [
    {
     "name": "stdin",
     "output_type": "stream",
     "text": [
      "Podaj zdanie:  Idę na sushi!\n"
     ]
    },
    {
     "name": "stdout",
     "output_type": "stream",
     "text": [
      "Nie krzycz! Słyszę cię całkiem dobrze!\n"
     ]
    }
   ],
   "source": [
    "k = input(\"Podaj zdanie: \")\n",
    "if k[-1]== \".\":\n",
    "    print(\"Rozumiem. Pewnie masz rację.\")\n",
    "if k[-1]== \"?\":\n",
    "    print(\"Nie wiem, nie znam się.\")\n",
    "if k[-1]== \"!\":\n",
    "    print(\"Nie krzycz! Słyszę cię całkiem dobrze!\")"
   ]
  }
 ],
 "metadata": {
  "kernelspec": {
   "display_name": "Python 3",
   "language": "python",
   "name": "python3"
  },
  "language_info": {
   "codemirror_mode": {
    "name": "ipython",
    "version": 3
   },
   "file_extension": ".py",
   "mimetype": "text/x-python",
   "name": "python",
   "nbconvert_exporter": "python",
   "pygments_lexer": "ipython3",
   "version": "3.7.0"
  }
 },
 "nbformat": 4,
 "nbformat_minor": 2
}

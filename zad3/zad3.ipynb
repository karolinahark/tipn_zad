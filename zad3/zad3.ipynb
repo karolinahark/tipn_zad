{
 "cells": [
  {
   "cell_type": "markdown",
   "metadata": {},
   "source": [
    "## Notebook zawierający średnią ze wszystkich przedmiotów w semestrze zimowym studiów   w roku 2018/2019"
   ]
  },
  {
   "cell_type": "code",
   "execution_count": 8,
   "metadata": {},
   "outputs": [],
   "source": [
    "metodologia = 5.0\n",
    "biologiczne_mechanizmy = 4.0\n",
    "wf = 5.0\n",
    "informatyka = 5.0\n",
    "psychologia_ogolna = 4.0\n",
    "filozofia = 4.0\n",
    "anatomia = 4.0\n",
    "komunikacja = 5.0\n",
    "trening_interpersonalny = 5.0\n",
    "angielski = 5.0\n"
   ]
  },
  {
   "cell_type": "code",
   "execution_count": 9,
   "metadata": {},
   "outputs": [],
   "source": [
    "suma = metodologia+biologiczne_mechanizmy+wf+informatyka+psychologia_ogolna+filozofia+anatomia+komunikacja+trening_interpersonalny+angielski"
   ]
  },
  {
   "cell_type": "code",
   "execution_count": 10,
   "metadata": {},
   "outputs": [],
   "source": [
    "srednia = suma/10"
   ]
  },
  {
   "cell_type": "code",
   "execution_count": null,
   "metadata": {},
   "outputs": [],
   "source": [
    "print(\"Moja srednia w pierwszym semestrze studiów to\") +"
   ]
  }
 ],
 "metadata": {
  "kernelspec": {
   "display_name": "Python 3",
   "language": "python",
   "name": "python3"
  },
  "language_info": {
   "codemirror_mode": {
    "name": "ipython",
    "version": 3
   },
   "file_extension": ".py",
   "mimetype": "text/x-python",
   "name": "python",
   "nbconvert_exporter": "python",
   "pygments_lexer": "ipython3",
   "version": "3.7.0"
  }
 },
 "nbformat": 4,
 "nbformat_minor": 2
}

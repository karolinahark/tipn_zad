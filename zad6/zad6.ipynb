{
 "cells": [
  {
   "cell_type": "markdown",
   "metadata": {},
   "source": [
    "# Jakim rodzajem herbaty jesteś?"
   ]
  },
  {
   "cell_type": "markdown",
   "metadata": {},
   "source": [
    "## Test osobowości, do którego przystępujesz składa się z 5 pytań. Na każde z pytań należy odpowiedzieć podając wartość od 1 do 5."
   ]
  },
  {
   "cell_type": "code",
   "execution_count": 32,
   "metadata": {},
   "outputs": [],
   "source": [
    "a = \"Unikam podejmowania ryzyka.\"\n",
    "b = \"Preferuję ciszę i spokój.\"\n",
    "c = \"Uważam, że umiem panować nad swoimi emocjami.\"\n",
    "d = \"Zamiast imprezowania w klubie, wolę domówki.\"\n",
    "e = \"W relacjach romantycznych wolę być osobą podrywaną niż podrywającą.\"\n",
    "punkty = []"
   ]
  },
  {
   "cell_type": "code",
   "execution_count": 33,
   "metadata": {},
   "outputs": [],
   "source": [
    "def test_osob(os):\n",
    "    pytania = [a, b, c, d, e]\n",
    "\n",
    "def zadaj_pytanie(a):\n",
    "    \n",
    "    print(a)\n",
    "    az = input (\"1 oznacza zupełnie się nie zgadzam, a 5 oznacza całkowicie się zgadzam:\")\n",
    "    az = int(az)\n",
    "    if az>5 or az<1:\n",
    "        print(\"Coś tu nie gra – wpisałeś/aś złą cyfrę. Spróbuj jeszcze raz.\")\n",
    "    else: \n",
    "        return az"
   ]
  },
  {
   "cell_type": "code",
   "execution_count": 37,
   "metadata": {},
   "outputs": [
    {
     "name": "stdout",
     "output_type": "stream",
     "text": [
      "Unikam podejmowania ryzyka.\n"
     ]
    },
    {
     "name": "stdin",
     "output_type": "stream",
     "text": [
      "1 oznacza zupełnie się nie zgadzam, a 5 oznacza całkowicie się zgadzam: 1\n"
     ]
    },
    {
     "name": "stdout",
     "output_type": "stream",
     "text": [
      "Preferuję ciszę i spokój.\n"
     ]
    },
    {
     "name": "stdin",
     "output_type": "stream",
     "text": [
      "1 oznacza zupełnie się nie zgadzam, a 5 oznacza całkowicie się zgadzam: 1\n"
     ]
    },
    {
     "name": "stdout",
     "output_type": "stream",
     "text": [
      "Uważam, że umiem panować nad swoimi emocjami.\n"
     ]
    },
    {
     "name": "stdin",
     "output_type": "stream",
     "text": [
      "1 oznacza zupełnie się nie zgadzam, a 5 oznacza całkowicie się zgadzam: 1\n"
     ]
    },
    {
     "name": "stdout",
     "output_type": "stream",
     "text": [
      "Zamiast imprezowania w klubie, wolę domówki.\n"
     ]
    },
    {
     "name": "stdin",
     "output_type": "stream",
     "text": [
      "1 oznacza zupełnie się nie zgadzam, a 5 oznacza całkowicie się zgadzam: 1\n"
     ]
    },
    {
     "name": "stdout",
     "output_type": "stream",
     "text": [
      "W relacjach romantycznych wolę być osobą podrywaną niż podrywającą.\n"
     ]
    },
    {
     "name": "stdin",
     "output_type": "stream",
     "text": [
      "1 oznacza zupełnie się nie zgadzam, a 5 oznacza całkowicie się zgadzam: 1\n"
     ]
    },
    {
     "name": "stdout",
     "output_type": "stream",
     "text": [
      "Twój wynik to 10 . Bije od Ciebie wyrafinowanie i elegancja. Twoim herbacianym odpowiednikiem jest herbata biała.\n"
     ]
    }
   ],
   "source": [
    "pkt = zadaj_pytanie(a)\n",
    "punkty.append(pkt)\n",
    "pkt = zadaj_pytanie(b)\n",
    "punkty.append(pkt)\n",
    "pkt = zadaj_pytanie(c)\n",
    "punkty.append(pkt)\n",
    "pkt = zadaj_pytanie(d)\n",
    "punkty.append(pkt)\n",
    "pkt = zadaj_pytanie(e)\n",
    "punkty.append(pkt)\n",
    "wynik = sum(punkty)\n",
    "wynik = int(wynik)\n",
    "if wynik > 5 and wynik < 10:\n",
    "    print(\"Twój wynik to\", wynik, \".\", \"Lubisz zaszaleć i rozerwać się od czasu do czasu. Nie lubisz przebywać w ciszy, potrzebujesz jakiegokolwiek dźwięku w tle. W tym towarzyszyć Ci będzie żółta herbata.\")\n",
    "elif wynik == 5:\n",
    "    print(\"Twój wynik to\", wynik, \".\", \"Jesteś niezwykle energiczną i towarzyską osobą. Nie umiesz usiedzieć w jednym miejscu i rozpiera Cię energia. Zdecydowanie jesteś czerwoną herbatą!\")\n",
    "elif wynik >= 10 and wynik < 15:\n",
    "    print(\"Twój wynik to\", wynik, \".\", \"Bije od Ciebie wyrafinowanie i elegancja. Twoim herbacianym odpowiednikiem jest herbata biała.\")\n",
    "elif wynik >= 15 and wynik < 20:\n",
    "    print(\"Twój wynik to\", wynik, \".\", \"Lubisz od czasu do czasu się rozerwać, ale nie przepadasz za szaleństwami. Potrafisz utrzymać swoje cechy charakteru w równowadze i harmonii. Jesteś herbatą oolong.\")\n",
    "elif wynik >=20 and wynik < 25:\n",
    "    print(\"Twój wynik to\", wynik, \".\", \"No dobra, skoro już muszę, to pójdę z Wami, ale przyszły piątek mam już zajęty to Twoje motto życiowe. Nie przepadasz za tłumami, dlatego wolisz unikać miejsc zatłoczonych. Są jednak pewne wyjątki, które są w stanie Cię przekonać do wyjścia spod ciepłego kocyka. Jesteś zieloną herbatą!\")\n",
    "elif wynik == 25:\n",
    "    print(\"Twój wynik to\", wynik, \".\", \"Wolisz nie ryzykować, tylko rozegrać wszystko w znany, sprawdzony wcześniej sposób. Nie lubisz eksperymentować, dlatego można Cię porównać do herbaty czarnej – klasyka herbacianego.\")\n",
    "    \n",
    "if wynik > 0:\n",
    "    punkty.pop(0)\n",
    "    punkty.pop(0)\n",
    "    punkty.pop(0)\n",
    "    punkty.pop(0)\n",
    "    punkty.pop(0)\n",
    "else:\n",
    "    print(\"Dzięki za zrobienie testu!\")"
   ]
  },
  {
   "cell_type": "code",
   "execution_count": null,
   "metadata": {},
   "outputs": [],
   "source": []
  }
 ],
 "metadata": {
  "kernelspec": {
   "display_name": "Python 3",
   "language": "python",
   "name": "python3"
  },
  "language_info": {
   "codemirror_mode": {
    "name": "ipython",
    "version": 3
   },
   "file_extension": ".py",
   "mimetype": "text/x-python",
   "name": "python",
   "nbconvert_exporter": "python",
   "pygments_lexer": "ipython3",
   "version": "3.7.0"
  }
 },
 "nbformat": 4,
 "nbformat_minor": 2
}

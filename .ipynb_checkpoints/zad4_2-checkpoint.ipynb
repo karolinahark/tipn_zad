{
 "cells": [
  {
   "cell_type": "code",
   "execution_count": 3,
   "metadata": {},
   "outputs": [],
   "source": [
    "przedmioty = [\"Metodologia\", \"WF\", \"Anatomia\", \"Komunikacja\", \"Angielski\"]"
   ]
  },
  {
   "cell_type": "code",
   "execution_count": 12,
   "metadata": {},
   "outputs": [
    {
     "name": "stdin",
     "output_type": "stream",
     "text": [
      "Metodologia 5.0\n",
      "WF 5.0\n",
      "Anatomia 4.0\n",
      "Komunikacja 5.0\n",
      "Angielski 5.0\n"
     ]
    }
   ],
   "source": [
    "oceny = []\n",
    "\n",
    "ocena = input (\"Metodologia\")\n",
    "ocena = float (ocena)\n",
    "oceny.append(ocena)\n",
    "\n",
    "ocena = input (\"WF\")\n",
    "ocena = float (ocena)\n",
    "oceny.append(ocena)\n",
    "\n",
    "ocena = input (\"Anatomia\")\n",
    "ocena = float (ocena)\n",
    "oceny.append(ocena)\n",
    "\n",
    "ocena = input (\"Komunikacja\")\n",
    "ocena = float (ocena)\n",
    "oceny.append(ocena)\n",
    "\n",
    "ocena = input (\"Angielski\")\n",
    "ocena = float (ocena)\n",
    "oceny.append(ocena)"
   ]
  },
  {
   "cell_type": "code",
   "execution_count": 13,
   "metadata": {},
   "outputs": [
    {
     "data": {
      "text/plain": [
       "[5.0, 5.0, 4.0, 5.0, 5.0]"
      ]
     },
     "execution_count": 13,
     "metadata": {},
     "output_type": "execute_result"
    }
   ],
   "source": [
    "oceny"
   ]
  },
  {
   "cell_type": "code",
   "execution_count": 14,
   "metadata": {},
   "outputs": [
    {
     "data": {
      "text/plain": [
       "24.0"
      ]
     },
     "execution_count": 14,
     "metadata": {},
     "output_type": "execute_result"
    }
   ],
   "source": [
    "sum(oceny)"
   ]
  },
  {
   "cell_type": "code",
   "execution_count": 15,
   "metadata": {},
   "outputs": [
    {
     "data": {
      "text/plain": [
       "5"
      ]
     },
     "execution_count": 15,
     "metadata": {},
     "output_type": "execute_result"
    }
   ],
   "source": [
    "len(oceny)"
   ]
  },
  {
   "cell_type": "code",
   "execution_count": 17,
   "metadata": {},
   "outputs": [
    {
     "data": {
      "text/plain": [
       "4.8"
      ]
     },
     "execution_count": 17,
     "metadata": {},
     "output_type": "execute_result"
    }
   ],
   "source": [
    "sum(oceny)/len(oceny)"
   ]
  }
 ],
 "metadata": {
  "kernelspec": {
   "display_name": "Python 3",
   "language": "python",
   "name": "python3"
  },
  "language_info": {
   "codemirror_mode": {
    "name": "ipython",
    "version": 3
   },
   "file_extension": ".py",
   "mimetype": "text/x-python",
   "name": "python",
   "nbconvert_exporter": "python",
   "pygments_lexer": "ipython3",
   "version": "3.7.0"
  }
 },
 "nbformat": 4,
 "nbformat_minor": 2
}

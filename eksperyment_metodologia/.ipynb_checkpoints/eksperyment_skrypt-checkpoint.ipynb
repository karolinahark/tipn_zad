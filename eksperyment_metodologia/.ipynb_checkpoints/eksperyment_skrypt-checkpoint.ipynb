{
 "cells": [
  {
   "cell_type": "markdown",
   "metadata": {},
   "source": [
    "Karolina Hark, Anna Bollin\n",
    "\n",
    "Efekt obramowania\n",
    "\n",
    "Badanie przeprowadzone zostanie na dwóch grupach niezależnych. Dobór do próby odbędzie się w sposób przypadkowy (znajomi studenci w podobnym wieku), natomiast dobór do jednej z dwóch grup będzie losowy – badani będą wyciągać karteczkę z numerem grupy. Mężczyźni i kobiety losować będą z osobnych zbiorów, w których ilość kartek z grupą 1 będzie równa ilości kartek z grupą 2. Przed rozpoczęciem eksperymentu uczestnicy otrzymają krótki formularz do wypełnienia, w którym znajdować będą się: zgoda na udział w badaniu oraz na przetwarzanie danych osobowych, informacja o możliwości rezygnacji w dowolnym momencie oraz kwestionariusz wywiadu (płeć, wiek, wykształcenie). Następnie badani otrzymają kartkę z opisem sytuacji, w której kraj przygotowuje się do wybuchu epidemii oraz do wyboru jeden z dwóch programów zwalczenia zarazy. Programy zwalczania będą się różnić między grupami badanych.\n",
    "\n",
    "B- badany\n",
    "\n",
    "E- eksperymentator\n",
    "\n",
    "E: Dzień dobry, proszę o zajęcie miejsca.\n",
    "\n",
    "B: Dzień dobry, dziękuję.\n",
    "\n",
    "E: Badanie, które pan(-i) zaraz otrzyma dotyczy wydawania sądów i podejmowania decyzji. Przed rozpoczęciem proszę o wypełnienie krótkiego formularza wraz z dwiema zgodami.  ",
    "\n",
    "W przypadku jakichkolwiek wątpliwości proszę o informację.\n",
    "\n",
    "[Badany dostaje formularz i wypełnia]\n",
    "\n",
    "E: Teraz otrzyma pan(-i) opis pewnej sytuacji i dwa rozwiązania, z których proszę  ",
    "o wybranie jednego.\n",
    "\n",
    "[Badany dostaje kartkę, zapoznaje się z informacjami na niej zawartymi oraz zaznacza odpowiedź]\n",
    "\n",
    "E: Dziękuję za poświęcony czas, do widzenia."
   ]
  },
  {
   "cell_type": "code",
   "execution_count": null,
   "metadata": {},
   "outputs": [],
   "source": []
  }
 ],
 "metadata": {
  "kernelspec": {
   "display_name": "Python 3",
   "language": "python",
   "name": "python3"
  },
  "language_info": {
   "codemirror_mode": {
    "name": "ipython",
    "version": 3
   },
   "file_extension": ".py",
   "mimetype": "text/x-python",
   "name": "python",
   "nbconvert_exporter": "python",
   "pygments_lexer": "ipython3",
   "version": "3.7.0"
  }
 },
 "nbformat": 4,
 "nbformat_minor": 2
}
